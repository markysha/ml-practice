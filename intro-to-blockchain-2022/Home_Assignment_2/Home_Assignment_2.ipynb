{
 "cells": [
  {
   "cell_type": "code",
   "execution_count": 5,
   "id": "a6137692",
   "metadata": {},
   "outputs": [],
   "source": [
    "account_1 = '0x0889D32bE00af2ebfC496e71F7719B080ae30482'\n",
    "account_2 = '0x2D2142896850965d8534A6694545cb13252995c1'"
   ]
  },
  {
   "cell_type": "markdown",
   "id": "1724c42f",
   "metadata": {},
   "source": [
    "## Task 1"
   ]
  },
  {
   "cell_type": "code",
   "execution_count": 1,
   "id": "27fe65dc",
   "metadata": {},
   "outputs": [],
   "source": [
    "from web3 import Web3\n",
    "\n",
    "def get_web3(network):\n",
    "    if network == \"mainnet\":\n",
    "        return Web3(Web3.HTTPProvider(\"https://mainnet.infura.io/v3/9aa3d95b3bc440fa88ea12eaa4456161\"))\n",
    "    if network == \"ropsten\":\n",
    "        return Web3(Web3.HTTPProvider(\"https://ropsten.infura.io/v3/9aa3d95b3bc440fa88ea12eaa4456161\"))\n",
    "    if network == \"rinkeby\":\n",
    "        return Web3(Web3.HTTPProvider(\"https://rinkeby.infura.io/v3/9aa3d95b3bc440fa88ea12eaa4456161\"))\n",
    "    if network == \"localhost\":\n",
    "        return Web3(Web3.HTTPProvider('http://127.0.0.1:7545'))"
   ]
  },
  {
   "cell_type": "code",
   "execution_count": 2,
   "id": "95873918",
   "metadata": {},
   "outputs": [
    {
     "name": "stdout",
     "output_type": "stream",
     "text": [
      "True\n",
      "True\n"
     ]
    }
   ],
   "source": [
    "eth = get_web3(\"mainnet\")\n",
    "\n",
    "print(eth.isConnected())\n",
    "\n",
    "eth = get_web3(\"ropsten\")\n",
    "\n",
    "print(eth.isConnected())"
   ]
  },
  {
   "cell_type": "markdown",
   "id": "1f3d7faa",
   "metadata": {},
   "source": [
    "## Task 2\n",
    "\n",
    "1 https://rinkeby.etherscan.io/tx/0x9f1805b057c078c5b5f550cf3e5cd079a8994f81dfe0a1ab3dedcad382eae9bb  \n",
    "\n",
    "2 https://rinkeby.etherscan.io/tx/0x8ec6133b37b2b826b24d20101a66ccf6d3f1172608890107aea82866f0435d34\n"
   ]
  },
  {
   "cell_type": "code",
   "execution_count": 3,
   "id": "931807c3",
   "metadata": {},
   "outputs": [],
   "source": [
    "# Importing libraries\n",
    "from web3 import Web3\n",
    "import json\n",
    "import ast\n",
    "import names\n",
    "import random\n"
   ]
  },
  {
   "cell_type": "code",
   "execution_count": 6,
   "id": "f7dc09c2",
   "metadata": {},
   "outputs": [
    {
     "name": "stdout",
     "output_type": "stream",
     "text": [
      "14222322\n",
      "AttributeDict({'difficulty': 1915518613, 'extraData': HexBytes('0x7c9b97b3d1fcddb478e48de0d060c6254394447062746373743030330102bc02'), 'gasLimit': 8000000, 'gasUsed': 48169, 'hash': HexBytes('0x9a4636cda80f169dae72745fef4d9fa83791c03d02a3e35922602262915274b9'), 'logsBloom': HexBytes('0x00000000000000000000000000000000000000000000000000000000000000000000000000000000000000000000000000000000000000000000000000000000000000000000000000000000000000000000000000000000000000000000000000000000000000000000000000000000000000000000000000000000000000000000000000000000000000000000000000000000000000000000000000000000000000000000000000000000000000000000000000000000000000000000000000000000000000000000000000000000000000000000000000000000000000000000000000000000000000000000000000000000000000000000000000000000'), 'miner': '0x7c1Ce6A008EF40C13e4eB144A6cc74f0E0aeaC7E', 'mixHash': HexBytes('0x784b402ddc29e7e1d54e7ed76a54300b1e1ba12aecf96ceacde57937dc07a97e'), 'nonce': HexBytes('0x355eabb748d4fb8b'), 'number': 10178609, 'parentHash': HexBytes('0xb13318fe53891ac3988ea8ca9def6062082ae9724d06808ba11db42dc0aac81a'), 'receiptsRoot': HexBytes('0xf350f1a9edcacee72b4129cb8dbb5bd0c7bbc1262784d89999ddc7c047d0d59d'), 'sha3Uncles': HexBytes('0x1dcc4de8dec75d7aab85b567b6ccd41ad312451b948a7413f0a142fd40d49347'), 'size': 836, 'stateRoot': HexBytes('0x43985857ce5b3cf07eec123d58b1b93336b375087ded484f2f4ecec3010081eb'), 'timestamp': 1620238745, 'totalDifficulty': 33565350155443696, 'transactions': [HexBytes('0x4547a65847bd8259e04a1ea92553430a6e78f84222d82b83041323a29ebbf922'), HexBytes('0xb7fae04ee3cd1da555dba00f61ced65e63f956b4826a8bedb167819d6a998d45')], 'transactionsRoot': HexBytes('0xb88d8969cf671b4c8c494eefc49f7184dc9f1674941670b049c78ff1ac0845bf'), 'uncles': []})\n",
      "201000000000000000\n"
     ]
    }
   ],
   "source": [
    "\n",
    "# block height\n",
    "print(get_web3(\"mainnet\").eth.block_number)\n",
    "\n",
    "# get block\n",
    "print(get_web3(\"ropsten\").eth.get_block(10178609))\n",
    "\n",
    "# get balance\n",
    "print(get_web3(\"rinkeby\").eth.get_balance(account_1))"
   ]
  },
  {
   "cell_type": "markdown",
   "id": "a1da410e",
   "metadata": {},
   "source": [
    "## Task 4"
   ]
  },
  {
   "cell_type": "code",
   "execution_count": 35,
   "id": "74a58e41",
   "metadata": {},
   "outputs": [],
   "source": [
    "key1 = \"\"\n",
    "key2 = \"\"\n",
    "\n",
    "with open(\".key1\", \"r\") as f:\n",
    "    key1 = str(f.read())[:-1]\n",
    "    \n",
    "with open(\".key2\", \"r\") as f:\n",
    "    key2 = str(f.read())[:-1]"
   ]
  },
  {
   "cell_type": "code",
   "execution_count": 37,
   "id": "a57829ca",
   "metadata": {},
   "outputs": [
    {
     "name": "stdout",
     "output_type": "stream",
     "text": [
      "SignedTransaction(rawTransaction=HexBytes('0x02f86b0480847735940084b2d05e00830f4240942d2142896850965d8534a6694545cb13252995c10180c080a0566e463dde2f1e2f084cb60c97f7ed38895af409b11b340b2b87729031bb298da02ede9cd0ae1f69073f39fb20b028852bdeb264b60c0e595bae9dd00e5b9c0ded'), hash=HexBytes('0x0f6d76e69f333b7338afdf0bf5c927dc0c1b1b1d9d3bd7d74ccaa82343d82125'), r=39093742945486265644351024255591319444648071571654393119444260518112395995533, s=21199713381647321466257178679097422183650654221283067886980803739796798967277, v=0)\n",
      "0x0f6d76e69f333b7338afdf0bf5c927dc0c1b1b1d9d3bd7d74ccaa82343d82125\n"
     ]
    }
   ],
   "source": [
    "from decimal import Decimal\n",
    "\n",
    "#get the nonce.  Prevents one from sending the transaction twice\n",
    "web3 = get_web3(\"rinkeby\")\n",
    "\n",
    "signed_txn = web3.eth.account.sign_transaction({\n",
    "    \"from\":account_1,\n",
    "    \"nonce\": web3.eth.getTransactionCount(account_1),\n",
    "    \"gas\":1000000,\n",
    "    \"maxFeePerGas\":3000000000,\n",
    "    \"maxPriorityFeePerGas\":2000000000,\n",
    "    \"to\":account_2,\n",
    "    \"value\":1,\n",
    "    \"chainId\":4,\n",
    "}, key1)\n",
    "\n",
    "\n",
    "tx_hash = web3.eth.sendRawTransaction(signed_txn.rawTransaction)\n",
    "\n",
    "#get transaction hash\n",
    "print(web3.toHex(tx_hash))"
   ]
  },
  {
   "cell_type": "markdown",
   "id": "c28cbd22",
   "metadata": {},
   "source": [
    "Перевел 1 wei\n",
    "\n",
    "https://rinkeby.etherscan.io/tx/0x0f6d76e69f333b7338afdf0bf5c927dc0c1b1b1d9d3bd7d74ccaa82343d82125"
   ]
  },
  {
   "cell_type": "markdown",
   "id": "416b8a76",
   "metadata": {},
   "source": [
    "## Task 5"
   ]
  },
  {
   "cell_type": "markdown",
   "id": "561cb526",
   "metadata": {},
   "source": [
    "Задеплоил в rinkeby от своего лица контракт \n",
    "\n",
    "https://rinkeby.etherscan.io/address/0xac5d44d50e4dfa309c73b1fd8f3a9ed7db1f580e\n",
    "\n",
    "И опубликовал код контракта так что его можно посмотреть в etherscan\n",
    "\n",
    "https://rinkeby.etherscan.io/address/0xac5d44d50e4dfa309c73b1fd8f3a9ed7db1f580e#code"
   ]
  },
  {
   "cell_type": "markdown",
   "id": "6d331e93",
   "metadata": {},
   "source": [
    "## Task 6"
   ]
  },
  {
   "cell_type": "markdown",
   "id": "5a13c29f",
   "metadata": {},
   "source": [
    "Контакт Mark Antihype Token (XXX)\n",
    "\n",
    "https://rinkeby.etherscan.io/address/0x288686c93a5995f102f8276c5bcab1345f71c2fa#code\n",
    "\n",
    "Отправил 10 токенов \n",
    "\n",
    "Транзакция: https://rinkeby.etherscan.io/tx/0x22fac35ad5c575ba02d5a4dd18672d61fd92524e67c281357741a6a9b82788fc"
   ]
  },
  {
   "cell_type": "code",
   "execution_count": null,
   "id": "75f37313",
   "metadata": {},
   "outputs": [],
   "source": []
  }
 ],
 "metadata": {
  "kernelspec": {
   "display_name": "Python 3 (ipykernel)",
   "language": "python",
   "name": "python3"
  },
  "language_info": {
   "codemirror_mode": {
    "name": "ipython",
    "version": 3
   },
   "file_extension": ".py",
   "mimetype": "text/x-python",
   "name": "python",
   "nbconvert_exporter": "python",
   "pygments_lexer": "ipython3",
   "version": "3.9.10"
  }
 },
 "nbformat": 4,
 "nbformat_minor": 5
}
